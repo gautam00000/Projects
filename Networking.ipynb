{
 "cells": [
  {
   "cell_type": "code",
   "execution_count": 44,
   "id": "distributed-hayes",
   "metadata": {},
   "outputs": [],
   "source": [
    "import requests\n",
    "import math\n",
    "from tqdm import tqdm\n",
    "import time"
   ]
  },
  {
   "cell_type": "code",
   "execution_count": 45,
   "id": "periodic-recipe",
   "metadata": {},
   "outputs": [],
   "source": [
    "url=\"http://www.africau.edu/images/default/sample.pdf\"\n",
    "\n",
    "\n",
    "\n",
    "chunk_size=256"
   ]
  },
  {
   "cell_type": "code",
   "execution_count": 46,
   "id": "lonely-penalty",
   "metadata": {},
   "outputs": [
    {
     "data": {
      "text/plain": [
       "3028"
      ]
     },
     "execution_count": 46,
     "metadata": {},
     "output_type": "execute_result"
    }
   ],
   "source": [
    "size=int(data.headers[\"Content-Length\"])\n",
    "size"
   ]
  },
  {
   "cell_type": "code",
   "execution_count": 47,
   "id": "crazy-senior",
   "metadata": {},
   "outputs": [
    {
     "data": {
      "text/plain": [
       "\u001b[1;31mSignature:\u001b[0m \u001b[0mrequests\u001b[0m\u001b[1;33m.\u001b[0m\u001b[0mget\u001b[0m\u001b[1;33m(\u001b[0m\u001b[0murl\u001b[0m\u001b[1;33m,\u001b[0m \u001b[0mparams\u001b[0m\u001b[1;33m=\u001b[0m\u001b[1;32mNone\u001b[0m\u001b[1;33m,\u001b[0m \u001b[1;33m**\u001b[0m\u001b[0mkwargs\u001b[0m\u001b[1;33m)\u001b[0m\u001b[1;33m\u001b[0m\u001b[1;33m\u001b[0m\u001b[0m\n",
       "\u001b[1;31mDocstring:\u001b[0m\n",
       "Sends a GET request.\n",
       "\n",
       ":param url: URL for the new :class:`Request` object.\n",
       ":param params: (optional) Dictionary, list of tuples or bytes to send\n",
       "    in the query string for the :class:`Request`.\n",
       ":param \\*\\*kwargs: Optional arguments that ``request`` takes.\n",
       ":return: :class:`Response <Response>` object\n",
       ":rtype: requests.Response\n",
       "\u001b[1;31mFile:\u001b[0m      c:\\users\\gautam\\anaconda3\\lib\\site-packages\\requests\\api.py\n",
       "\u001b[1;31mType:\u001b[0m      function\n"
      ]
     },
     "metadata": {},
     "output_type": "display_data"
    }
   ],
   "source": [
    "data=requests.get?"
   ]
  },
  {
   "cell_type": "code",
   "execution_count": 48,
   "id": "noble-klein",
   "metadata": {},
   "outputs": [],
   "source": [
    "data=requests.get"
   ]
  },
  {
   "cell_type": "code",
   "execution_count": 49,
   "id": "fantastic-breast",
   "metadata": {},
   "outputs": [],
   "source": [
    "data=requests.get(url,stream=True)"
   ]
  },
  {
   "cell_type": "code",
   "execution_count": 50,
   "id": "strong-ability",
   "metadata": {},
   "outputs": [
    {
     "data": {
      "text/plain": [
       "12"
      ]
     },
     "execution_count": 50,
     "metadata": {},
     "output_type": "execute_result"
    }
   ],
   "source": [
    "n=math.ceil(size/chunk_size)\n",
    "n"
   ]
  },
  {
   "cell_type": "code",
   "execution_count": 51,
   "id": "suspended-pledge",
   "metadata": {},
   "outputs": [
    {
     "name": "stderr",
     "output_type": "stream",
     "text": [
      "100%|██████████| 12/12 [00:12<00:00,  1.00s/it]\n"
     ]
    }
   ],
   "source": [
    "with open(\"file.pdf\",\"wb\") as file:\n",
    "    for chunk in tqdm(data.iter_content(chunk_size=chunk_size),total=n):\n",
    "        time.sleep(1)\n",
    "        file.write(chunk)"
   ]
  }
 ],
 "metadata": {
  "kernelspec": {
   "display_name": "Python 3",
   "language": "python",
   "name": "python3"
  },
  "language_info": {
   "codemirror_mode": {
    "name": "ipython",
    "version": 3
   },
   "file_extension": ".py",
   "mimetype": "text/x-python",
   "name": "python",
   "nbconvert_exporter": "python",
   "pygments_lexer": "ipython3",
   "version": "3.7.3"
  }
 },
 "nbformat": 4,
 "nbformat_minor": 5
}
